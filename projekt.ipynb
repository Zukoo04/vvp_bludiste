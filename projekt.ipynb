{
 "cells": [
  {
   "cell_type": "code",
   "execution_count": 1,
   "metadata": {},
   "outputs": [],
   "source": [
    "import numpy as np\n",
    "import csv\n",
    "import matplotlib.pyplot as plt\n",
    "import heapq\n",
    "import matplotlib.colors\n",
    "import os \n",
    "os.chdir(\"/home/zuko/vvp-projekt/vvp_bludiste/data\")\n",
    "\n",
    "\n",
    "def load_maze_from_csv(data):\n",
    "    \"\"\"\n",
    "    Načte bludiště z CSV souboru.\n",
    "\n",
    "    Args:\n",
    "\n",
    "    filename (str): Název CSV souboru.\n",
    "\n",
    "    Returns:\n",
    "    numpy.ndarray: Matice reprezentující bludiště.\n",
    "    \"\"\"\n",
    "    with open(data, 'r') as file:\n",
    "        maze_reader = csv.reader(file)\n",
    "        maze = []\n",
    "        for row in maze_reader:\n",
    "            maze.append([1 if cell == '1' else 0 for cell in row])\n",
    "    return np.array(maze)\n",
    "\n",
    "def incidence_matrix(maze):\n",
    "    \"\"\"\n",
    "    Vytvoří incidenční matici bludiště.\n",
    "\n",
    "    Args:\n",
    "    maze (numpy.ndarray): Matice reprezentující bludiště.\n",
    "\n",
    "    Returns:\n",
    "    numpy.ndarray: Incidenční matice bludiště.\n",
    "    \"\"\"\n",
    "    n = len(maze)\n",
    "    incidence = np.zeros((n*n, n*n), dtype=int)\n",
    "    for i in range(n):\n",
    "        for j in range(n):\n",
    "            if not maze[i][j]:\n",
    "                index = i * n + j\n",
    "                if i > 0 and not maze[i-1][j]:  # check top\n",
    "                    incidence[index][index-n] = 1\n",
    "                if i < n-1 and not maze[i+1][j]:  # check bottom\n",
    "                    incidence[index][index+n] = 1\n",
    "                if j > 0 and not maze[i][j-1]:  # check left\n",
    "                    incidence[index][index-1] = 1\n",
    "                if j < n-1 and not maze[i][j+1]:  # check right\n",
    "                    incidence[index][index+1] = 1\n",
    "    return incidence\n",
    "\n",
    "def dijkstra_shortest_path(maze):\n",
    "    \"\"\"\n",
    "    Najde nejkratší cestu v bludišti pomocí Dijkstrova algoritmu.\n",
    "\n",
    "    Args:\n",
    "    maze (numpy.ndarray): Matice reprezentující bludiště.\n",
    "\n",
    "    Returns:\n",
    "    list of tuples: Cesty od startu do cíle.\n",
    "    \"\"\"\n",
    "    n = len(maze)\n",
    "    start = (0, 0)\n",
    "    end = (n - 1, n - 1)\n",
    "    distances = {(i, j): float('inf') for i in range(n) for j in range(n)}\n",
    "    distances[start] = 0\n",
    "    visited = set()\n",
    "    prev = {}\n",
    "    queue = [(0, start)]\n",
    "\n",
    "    while queue:\n",
    "        current_dist, current_node = heapq.heappop(queue)\n",
    "        if current_node == end:\n",
    "            path = []\n",
    "            while current_node in prev:\n",
    "                path.append(current_node)\n",
    "                current_node = prev[current_node]\n",
    "            path.append(start)\n",
    "            return path[::-1]\n",
    "\n",
    "        visited.add(current_node)\n",
    "        row, col = current_node\n",
    "        neighbors = [(row-1, col), (row+1, col), (row, col-1), (row, col+1)]\n",
    "        for neighbor_row, neighbor_col in neighbors:\n",
    "            if 0 <= neighbor_row < n and 0 <= neighbor_col < n:\n",
    "                neighbor_node = (neighbor_row, neighbor_col)\n",
    "                if maze[neighbor_row][neighbor_col] == 0 and neighbor_node not in visited:\n",
    "                    new_dist = current_dist + 1\n",
    "                    if new_dist < distances[neighbor_node]:\n",
    "                        distances[neighbor_node] = new_dist\n",
    "                        prev[neighbor_node] = current_node\n",
    "                        heapq.heappush(queue, (new_dist, neighbor_node))\n",
    "    return []\n",
    "\n",
    "def draw_maze_with_path(maze, path):\n",
    "    \"\"\"\n",
    "    Vykreslí bludiště s nalezenou cestou.\n",
    "\n",
    "    Args:\n",
    "    maze (numpy.ndarray): Matice reprezentující bludiště.\n",
    "    path (list of tuples): Cesty od startu do cíle.\n",
    "    \"\"\"\n",
    "\n",
    "    maze_with_path = maze.copy()\n",
    "\n",
    "    # Set the path to a temporary value\n",
    "    for node in path:\n",
    "        maze_with_path[node[0]][node[1]] = 2\n",
    "\n",
    "    # Create a custom color map\n",
    "    cmap = matplotlib.colors.ListedColormap(['white', 'black', 'red'])\n",
    "\n",
    "    plt.imshow(maze_with_path, cmap=cmap)\n",
    "    plt.show()\n",
    "def generate_maze(template=\"empty\", size=10):\n",
    "    \"\"\"\n",
    "    Vygeneruje bludiště podle zadané šablony.\n",
    "\n",
    "    Args:\n",
    "    template (str): Typ šablony (např. \"empty\", \"slalom\").\n",
    "    size (int): Velikost bludiště (N x N).\n",
    "\n",
    "    Returns:\n",
    "    numpy.ndarray: Vygenerované bludiště.\n",
    "    \"\"\"\n",
    "    if template == \"empty\":\n",
    "        return np.zeros((size, size), dtype=bool)\n",
    "    elif template == \"slalom\":\n",
    "        maze = np.zeros((size, size), dtype=bool)\n",
    "        for i in range(1, size-1):\n",
    "            if i % 2 == 0:\n",
    "                maze[i][1::2] = True\n",
    "            else:\n",
    "                maze[i][0::2] = True\n",
    "        return maze\n",
    "    else:\n",
    "        raise ValueError(\"Neznámá šablona bludiště.\")"
   ]
  },
  {
   "cell_type": "code",
   "execution_count": 2,
   "metadata": {},
   "outputs": [
    {
     "data": {
      "image/png": "[encoded data removed]",
      "text/plain": [
       "<Figure size 432x288 with 1 Axes>"
      ]
     },
     "metadata": {
      "needs_background": "light"
     },
     "output_type": "display_data"
    }
   ],
   "source": [
    "maze = load_maze_from_csv(\"maze_1.csv\")\n",
    "incidence = incidence_matrix(maze)\n",
    "shortest_path = dijkstra_shortest_path(maze)\n",
    "draw_maze_with_path(maze, shortest_path)"
   ]
  },
  {
   "cell_type": "code",
   "execution_count": 3,
   "metadata": {},
   "outputs": [
    {
     "data": {
      "image/png": "[encoded data removed]",
      "text/plain": [
       "<Figure size 432x288 with 1 Axes>"
      ]
     },
     "metadata": {
      "needs_background": "light"
     },
     "output_type": "display_data"
    }
   ],
   "source": [
    "maze = load_maze_from_csv(\"maze_2.csv\")\n",
    "incidence = incidence_matrix(maze)\n",
    "shortest_path = dijkstra_shortest_path(maze)\n",
    "draw_maze_with_path(maze, shortest_path)\n"
   ]
  },
  {
   "cell_type": "code",
   "execution_count": 4,
   "metadata": {},
   "outputs": [
    {
     "data": {
      "image/png": "[encoded data removed]",
      "text/plain": [
       "<Figure size 432x288 with 1 Axes>"
      ]
     },
     "metadata": {
      "needs_background": "light"
     },
     "output_type": "display_data"
    }
   ],
   "source": [
    "maze = load_maze_from_csv(\"maze_3.csv\")\n",
    "incidence = incidence_matrix(maze)\n",
    "shortest_path = dijkstra_shortest_path(maze)\n",
    "draw_maze_with_path(maze, shortest_path)\n"
   ]
  },
  {
   "cell_type": "code",
   "execution_count": 5,
   "metadata": {},
   "outputs": [
    {
     "data": {
      "image/png": "[encoded data removed]",
      "text/plain": [
       "<Figure size 432x288 with 1 Axes>"
      ]
     },
     "metadata": {
      "needs_background": "light"
     },
     "output_type": "display_data"
    }
   ],
   "source": [
    "maze = load_maze_from_csv(\"maze_4.csv\")\n",
    "incidence = incidence_matrix(maze)\n",
    "shortest_path = dijkstra_shortest_path(maze)\n",
    "draw_maze_with_path(maze, shortest_path)\n"
   ]
  },
  {
   "cell_type": "code",
   "execution_count": 6,
   "metadata": {},
   "outputs": [
    {
     "data": {
      "image/png": "[encoded data removed]",
      "text/plain": [
       "<Figure size 432x288 with 1 Axes>"
      ]
     },
     "metadata": {
      "needs_background": "light"
     },
     "output_type": "display_data"
    }
   ],
   "source": [
    "maze = load_maze_from_csv(\"maze_5.csv\")\n",
    "incidence = incidence_matrix(maze)\n",
    "shortest_path = dijkstra_shortest_path(maze)\n",
    "draw_maze_with_path(maze, shortest_path)\n"
   ]
  },
  {
   "cell_type": "code",
   "execution_count": null,
   "metadata": {},
   "outputs": [],
   "source": []
  }
 ],
 "metadata": {
  "kernelspec": {
   "display_name": "Python 3",
   "language": "python",
   "name": "python3"
  },
  "language_info": {
   "codemirror_mode": {
    "name": "ipython",
    "version": 3
   },
   "file_extension": ".py",
   "mimetype": "text/x-python",
   "name": "python",
   "nbconvert_exporter": "python",
   "pygments_lexer": "ipython3",
   "version": "3.10.12"
  }
 },
 "nbformat": 4,
 "nbformat_minor": 2
}
